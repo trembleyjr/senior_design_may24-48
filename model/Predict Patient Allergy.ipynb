{
 "cells": [
  {
   "cell_type": "code",
   "execution_count": 274,
   "id": "1f1fc624",
   "metadata": {},
   "outputs": [],
   "source": [
    "# Code to create a model used to predict whether the individual patient has an allergy\n",
    "# Use different notebook to load the model and return a prediction\n",
    "\n",
    "import os\n",
    "os.environ[\"KERAS_BACKEND\"] = \"tensorflow\"\n",
    "import tensorflow\n",
    "import keras\n",
    "\n",
    "import numpy as np\n",
    "np.random.seed(123)"
   ]
  },
  {
   "cell_type": "code",
   "execution_count": 275,
   "id": "214af1cc",
   "metadata": {},
   "outputs": [],
   "source": [
    "import matplotlib\n",
    "from keras.models import * \n",
    "from keras.layers import *\n",
    "from keras.optimizers import RMSprop\n",
    "import pandas as pd\n",
    "\n",
    "# Import both datasets, change to local path when running\n",
    "patients = pd.read_excel(r\"C:\\Users\\me\\OneDrive\\Desktop\\Senior Design\\Allergy_SanFrancisco\\PATIENTS_Nov_3_2023_V4_sfm-data.xlsx\", sheet_name=\"Level2_AI_Patient Traits\")\n",
    "\n",
    "allergies = pd.read_excel(r\"C:\\Users\\me\\OneDrive\\Desktop\\Senior Design\\Allergy_SanFrancisco\\PATIENTS_Nov_3_2023_V4_sfm-data.xlsx\", sheet_name=\"Level1_Patient Allergens\")"
   ]
  },
  {
   "cell_type": "code",
   "execution_count": 276,
   "id": "4b8cb12e",
   "metadata": {},
   "outputs": [],
   "source": [
    "# Confirm that patient sheet imported correctly\n",
    "# Comment below line before committing\n",
    "# patients.head()"
   ]
  },
  {
   "cell_type": "code",
   "execution_count": 277,
   "id": "d34eed1e",
   "metadata": {},
   "outputs": [],
   "source": [
    "# Confirm allergy sheet imported correctly\n",
    "# Comment line before committing\n",
    "# allergies.head()"
   ]
  },
  {
   "cell_type": "code",
   "execution_count": 278,
   "id": "bb333603",
   "metadata": {},
   "outputs": [],
   "source": [
    "# Merge columns by ID if needed\n",
    "patientAllergies = patients.merge(allergies, on = \"SFM Id\")\n",
    "# Comment line before committing\n",
    "# patientAllergies.head()"
   ]
  },
  {
   "cell_type": "code",
   "execution_count": 279,
   "id": "30c97a27",
   "metadata": {},
   "outputs": [],
   "source": [
    "# Drop ID column for preprocessing - ID is arbitrary so any effect is purely coincidence\n",
    "patientsNoId = patients.drop('SFM Id', axis = 1)\n",
    "# Cities column likely too niche to have an effect on the results\n",
    "patientsNoId = patientsNoId.drop('City', axis = 1)"
   ]
  },
  {
   "cell_type": "code",
   "execution_count": 280,
   "id": "9ecc338b",
   "metadata": {},
   "outputs": [],
   "source": [
    "# One-hot encode Gender column\n",
    "patientsNoId['Gender'] = pd.Categorical(patientsNoId['Gender'].str.strip())\n",
    "gender_onehot = pd.get_dummies(patientsNoId['Gender'], prefix = \"Gender\",\n",
    "                                    prefix_sep = \"-\", dtype = int)\n",
    "patientsNoId = patientsNoId.drop('Gender', axis = 1)\n",
    "patientsNoId = patientsNoId.join(gender_onehot)"
   ]
  },
  {
   "cell_type": "code",
   "execution_count": 281,
   "id": "f50d9b42",
   "metadata": {},
   "outputs": [],
   "source": [
    "# One-hot encode SkinTone column\n",
    "patientsNoId['SkinTone'] = pd.Categorical(patientsNoId['SkinTone'].str.strip())\n",
    "skintone_onehot = pd.get_dummies(patientsNoId['SkinTone'], prefix = \"SkinTone\",\n",
    "                                    prefix_sep = \"-\", dtype = int)\n",
    "patientsNoId = patientsNoId.drop('SkinTone', axis = 1)\n",
    "patientsNoId = patientsNoId.join(skintone_onehot)"
   ]
  },
  {
   "cell_type": "code",
   "execution_count": 282,
   "id": "04fc1416",
   "metadata": {},
   "outputs": [],
   "source": [
    "# One-hot encode FitzPatrickSkinPhotoType column\n",
    "patientsNoId['FitzpatrickSkinPhotoType'] = pd.Categorical(patientsNoId['FitzpatrickSkinPhotoType'].str.strip())\n",
    "# Dropping first here since it is a blank variable in the column\n",
    "fitzpatrick_onehot = pd.get_dummies(patientsNoId['FitzpatrickSkinPhotoType'], prefix = \"Fitzpatrick\",\n",
    "                                    prefix_sep = \"-\", drop_first = True, dtype = int)\n",
    "patientsNoId = patientsNoId.drop('FitzpatrickSkinPhotoType', axis = 1)\n",
    "patientsNoId = patientsNoId.join(fitzpatrick_onehot)"
   ]
  },
  {
   "cell_type": "code",
   "execution_count": 283,
   "id": "a86c71ea",
   "metadata": {},
   "outputs": [],
   "source": [
    "# TODO: Figure out preprocessing for State and Country columns\n",
    "patientsNoId['State'] = pd.Categorical(patientsNoId['State'])\n",
    "patientsNoId['Country'] = pd.Categorical(patientsNoId['Country'])"
   ]
  },
  {
   "cell_type": "code",
   "execution_count": 284,
   "id": "255b5582",
   "metadata": {},
   "outputs": [],
   "source": [
    "# Code to preprocess the SkinConditions column, tokenizing should be more recognizable to keras than regular text\n",
    "## Delete if this idea does not work\n",
    "from keras.preprocessing.text import Tokenizer\n",
    "from keras.preprocessing.sequence import pad_sequences\n",
    "\n",
    "# Flatten entries into actual lists\n",
    "patientsNoId['SkinConditions'] = patientsNoId['SkinConditions'].apply(lambda x: ' '.join(x))\n",
    "# Tokenize the characters of the columns\n",
    "tokenizer = Tokenizer()\n",
    "tokenizer.fit_on_texts(patientsNoId['SkinConditions'])\n",
    "# Create and pad sequences of the tokens\n",
    "patientsNoId['SkinConditions'] = tokenizer.texts_to_sequences(patientsNoId['SkinConditions'])\n",
    "max_length = max(len(seq) for seq in patientsNoId['SkinConditions'])\n",
    "testVar = pad_sequences(patientsNoId['SkinConditions'], maxlen = max_length, padding = \"post\")\n",
    "patientsNoId['SkinConditions'] = testVar.tolist()"
   ]
  },
  {
   "cell_type": "code",
   "execution_count": 287,
   "id": "1a785a73",
   "metadata": {},
   "outputs": [],
   "source": [
    "# Drop ID column for preprocessing - ID should have no effect on prediction\n",
    "# TODO: complete preprocessing for allergies columns to have valid output\n",
    "allergiesNoId = allergies.drop('SFM Id', axis = 1)"
   ]
  },
  {
   "cell_type": "code",
   "execution_count": 288,
   "id": "cf4b6192",
   "metadata": {},
   "outputs": [],
   "source": [
    "# TODO: create a training/testing split for the data"
   ]
  },
  {
   "cell_type": "code",
   "execution_count": 289,
   "id": "cabfa0b0",
   "metadata": {},
   "outputs": [],
   "source": [
    "# TODO: Refine layers/sequences to actually make the model once we get it loading in correctly\n",
    "# classes should be total number of outputs (1 for each ingredient)\n",
    "n_classes = 164687\n",
    "\n",
    "model = Sequential()\n",
    "\n",
    "# Input layer\n",
    "model.add(Dense(128, input_shape=(8,), activation='relu'))\n",
    "\n",
    "# Hidden layers\n",
    "model.add(Dense(2048, activation = \"relu\"))\n",
    "model.add(Dense(256, activation = \"relu\"))\n",
    "\n",
    "# Output layer\n",
    "model.add(Dense(n_classes, activation='softmax'))\n",
    "\n",
    "model.compile(loss='sparse_categorical_crossentropy', optimizer='adam', metrics=['accuracy'])"
   ]
  },
  {
   "cell_type": "code",
   "execution_count": null,
   "id": "93b52137",
   "metadata": {},
   "outputs": [],
   "source": [
    "# TODO: Change hyperparameters of the model to train/test\n",
    "import torch\n",
    "torch_tensor = torch.tensor(patientsNoId.values)\n",
    "history = model.fit(\n",
    "   patientsNoId, allergiesNoId, \n",
    "   batch_size = 128, \n",
    "   epochs = 20, \n",
    "   verbose = 1\n",
    ")"
   ]
  },
  {
   "cell_type": "code",
   "execution_count": null,
   "id": "95c6761e",
   "metadata": {},
   "outputs": [],
   "source": [
    "# Get the average prediction score across all epochs\n",
    "score = model.evaluate(x_test, y_test, verbose = 0)\n",
    "score #First number is loss, second is accuracy"
   ]
  },
  {
   "cell_type": "code",
   "execution_count": null,
   "id": "e28f1a66",
   "metadata": {},
   "outputs": [],
   "source": [
    "# TODO: Save Keras model as separate file"
   ]
  }
 ],
 "metadata": {
  "kernelspec": {
   "display_name": "Python 3 (ipykernel)",
   "language": "python",
   "name": "python3"
  },
  "language_info": {
   "codemirror_mode": {
    "name": "ipython",
    "version": 3
   },
   "file_extension": ".py",
   "mimetype": "text/x-python",
   "name": "python",
   "nbconvert_exporter": "python",
   "pygments_lexer": "ipython3",
   "version": "3.11.5"
  }
 },
 "nbformat": 4,
 "nbformat_minor": 5
}
