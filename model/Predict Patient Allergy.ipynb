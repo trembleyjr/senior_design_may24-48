{
 "cells": [
  {
   "cell_type": "code",
   "execution_count": 90,
   "id": "1f1fc624",
   "metadata": {},
   "outputs": [],
   "source": [
    "# Code to create a model used to predict whether the individual patient has an allergy\n",
    "# Use different notebook to load the model and return a prediction\n",
    "\n",
    "import os\n",
    "os.environ[\"KERAS_BACKEND\"] = \"tensorflow\"\n",
    "import tensorflow\n",
    "import keras\n",
    "\n",
    "import numpy as np\n",
    "np.random.seed(123)"
   ]
  },
  {
   "cell_type": "code",
   "execution_count": 91,
   "id": "214af1cc",
   "metadata": {},
   "outputs": [],
   "source": [
    "import matplotlib\n",
    "from keras.models import * \n",
    "from keras.layers import *\n",
    "from keras.optimizers import RMSprop\n",
    "import pandas as pd\n",
    "\n",
    "# Import both datasets, change to local path when running\n",
    "patients = pd.read_excel(r\"C:\\Users\\me\\OneDrive\\Desktop\\Senior Design\\Allergy_SanFrancisco\\PATIENTS_Nov_3_2023_V4_sfm-data.xlsx\", sheet_name=\"Level2_AI_Patient Traits\")\n",
    "\n",
    "allergies = pd.read_excel(r\"C:\\Users\\me\\OneDrive\\Desktop\\Senior Design\\Allergy_SanFrancisco\\PATIENTS_Nov_3_2023_V4_sfm-data.xlsx\", sheet_name=\"Level1_Patient Allergens\")"
   ]
  },
  {
   "cell_type": "code",
   "execution_count": 92,
   "id": "4b8cb12e",
   "metadata": {},
   "outputs": [],
   "source": [
    "# Confirm that patient sheet imported correctly\n",
    "# Comment below line before committing\n",
    "# patients.head()"
   ]
  },
  {
   "cell_type": "code",
   "execution_count": 93,
   "id": "d34eed1e",
   "metadata": {},
   "outputs": [],
   "source": [
    "# Confirm allergy sheet imported correctly\n",
    "# Comment line before committing\n",
    "# allergies.head()"
   ]
  },
  {
   "cell_type": "code",
   "execution_count": 94,
   "id": "bb333603",
   "metadata": {},
   "outputs": [],
   "source": [
    "# Merge columns by ID if needed\n",
    "patientAllergies = patients.merge(allergies, on = \"SFM Id\")\n",
    "# Comment line before committing\n",
    "# patientAllergies.head()"
   ]
  },
  {
   "cell_type": "code",
   "execution_count": 95,
   "id": "4fc3d32e",
   "metadata": {},
   "outputs": [],
   "source": [
    "# Drop ID column for preprocessing - ID should have no effect on prediction\n",
    "patientsNoId = patients.drop('SFM Id', axis = 1)"
   ]
  },
  {
   "cell_type": "code",
   "execution_count": 96,
   "id": "9ef220a4",
   "metadata": {},
   "outputs": [],
   "source": [
    "# Drop ID column for preprocessing - ID should have no effect on prediction\n",
    "# TODO: complete preprocessing for allergies columns to have valid output\n",
    "allergiesNoId = allergies.drop('SFM Id', axis = 1)"
   ]
  },
  {
   "cell_type": "code",
   "execution_count": 97,
   "id": "dbe65647",
   "metadata": {
    "scrolled": true
   },
   "outputs": [],
   "source": [
    "# TODO: Refine layers/sequences to actually make the model once we get it loading in correctly\n",
    "# classes should be total number of outputs (1 for each ingredient)\n",
    "n_classes = 164687\n",
    "\n",
    "model = Sequential()\n",
    "\n",
    "# Input layer\n",
    "model.add(Dense(128, input_shape=(8,), activation='relu'))\n",
    "\n",
    "# Hidden layers\n",
    "model.add(Dense(2048, activation = \"relu\"))\n",
    "model.add(Dense(256, activation = \"relu\"))\n",
    "\n",
    "# Output layer\n",
    "model.add(Dense(n_classes, activation='softmax'))\n",
    "\n",
    "model.compile(loss='sparse_categorical_crossentropy', optimizer='adam', metrics=['accuracy'])"
   ]
  },
  {
   "cell_type": "code",
   "execution_count": 98,
   "id": "8148f06a",
   "metadata": {},
   "outputs": [
    {
     "data": {
      "text/plain": [
       "Gender                      category\n",
       "BirthYear                      int64\n",
       "City                          object\n",
       "State                         object\n",
       "Country                     category\n",
       "FitzpatrickSkinPhotoType      object\n",
       "SkinTone                    category\n",
       "SkinConditions                object\n",
       "dtype: object"
      ]
     },
     "execution_count": 98,
     "metadata": {},
     "output_type": "execute_result"
    }
   ],
   "source": [
    "# Change columns from being object to an actual datatype\n",
    "# Most likely required for all columns\n",
    "patientsNoId['Gender'] = pd.Categorical(patientsNoId['Gender'])\n",
    "patientsNoId['SkinTone'] = pd.Categorical(patientsNoId['SkinTone'])\n",
    "patientsNoId['Country'] = pd.Categorical(patientsNoId['Country'])\n",
    "patientsNoId.dtypes"
   ]
  },
  {
   "cell_type": "code",
   "execution_count": 99,
   "id": "7a059ba1",
   "metadata": {},
   "outputs": [],
   "source": [
    "# Code to preprocess the SkinConditions column, tokenizing should be more recognizable to keras than regular text\n",
    "## Delete if this idea does not work\n",
    "from keras.preprocessing.text import Tokenizer\n",
    "from keras.preprocessing.sequence import pad_sequences\n",
    "\n",
    "# Flatten entries into actual lists\n",
    "patientsNoId['SkinConditions'] = patientsNoId['SkinConditions'].apply(lambda x: ' '.join(x))\n",
    "# Tokenize the characters of the columns\n",
    "tokenizer = Tokenizer()\n",
    "tokenizer.fit_on_texts(patientsNoId['SkinConditions'])\n",
    "# Create and pad sequences of the tokens\n",
    "patientsNoId['SkinConditions'] = tokenizer.texts_to_sequences(patientsNoId['SkinConditions'])\n",
    "patientsNoId['SkinConditions'] = pad_sequences(patientsNoId['SkinConditions'], padding='post')"
   ]
  },
  {
   "cell_type": "code",
   "execution_count": 100,
   "id": "cf4b6192",
   "metadata": {},
   "outputs": [],
   "source": [
    "# TODO: create a training/testing split for the data"
   ]
  },
  {
   "cell_type": "code",
   "execution_count": null,
   "id": "93b52137",
   "metadata": {},
   "outputs": [],
   "source": [
    "# TODO: Change hyperparameters of the model to train/test\n",
    "history = model.fit(\n",
    "   x_train, y_train, \n",
    "   batch_size = 128, \n",
    "   epochs = 20, \n",
    "   verbose = 1, \n",
    "   validation_data = (x_test, y_test)\n",
    ")"
   ]
  },
  {
   "cell_type": "code",
   "execution_count": null,
   "id": "95c6761e",
   "metadata": {},
   "outputs": [],
   "source": [
    "# Get the average prediction score across all epochs\n",
    "score = model.evaluate(x_test, y_test, verbose = 0)\n",
    "score #First number is loss, second is accuracy"
   ]
  },
  {
   "cell_type": "code",
   "execution_count": null,
   "id": "e28f1a66",
   "metadata": {},
   "outputs": [],
   "source": [
    "# TODO: Save Keras model as separate file"
   ]
  }
 ],
 "metadata": {
  "kernelspec": {
   "display_name": "Python 3 (ipykernel)",
   "language": "python",
   "name": "python3"
  },
  "language_info": {
   "codemirror_mode": {
    "name": "ipython",
    "version": 3
   },
   "file_extension": ".py",
   "mimetype": "text/x-python",
   "name": "python",
   "nbconvert_exporter": "python",
   "pygments_lexer": "ipython3",
   "version": "3.11.5"
  }
 },
 "nbformat": 4,
 "nbformat_minor": 5
}
