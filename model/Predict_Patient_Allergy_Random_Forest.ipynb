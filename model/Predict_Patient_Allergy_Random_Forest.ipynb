{
 "cells": [
  {
   "cell_type": "code",
   "execution_count": 1,
   "metadata": {},
   "outputs": [],
   "source": [
    "import os\n",
    "os.environ[\"KERAS_BACKEND\"] = \"tensorflow\"\n",
    "import tensorflow\n",
    "import keras\n",
    "import numpy as np\n",
    "np.random.seed(123)\n",
    "import matplotlib\n",
    "from keras.models import * \n",
    "from keras.layers import *\n",
    "from keras.optimizers import RMSprop\n",
    "import pandas as pd\n",
    "\n",
    "# Import both datasets, change to local path when running\n",
    "patients = pd.read_excel(r\"./model_dir/PATIENTS_Nov_3_2023_V4_sfm-data.xlsx\", sheet_name=\"Level2_AI_Patient Traits\")\n",
    "\n",
    "allergies = pd.read_excel(r\"./model_dir/PATIENTS_Nov_3_2023_V4_sfm-data.xlsx\", sheet_name=\"Level1_Patient Allergens\")\n"
   ]
  },
  {
   "cell_type": "code",
   "execution_count": 2,
   "metadata": {},
   "outputs": [
    {
     "name": "stdout",
     "output_type": "stream",
     "text": [
      "[[2000    0    1 ...    0    0    0]\n",
      " [1946    1    0 ...    0    0    0]\n",
      " [1950    1    0 ...    0    0    0]\n",
      " ...\n",
      " [1977    1    0 ...    0    0    0]\n",
      " [1981    1    0 ...    0    0    0]\n",
      " [1960    1    0 ...    0    0    0]]\n"
     ]
    }
   ],
   "source": [
    "\n",
    "\n",
    "# Merge columns by ID if needed\n",
    "patientAllergies = patients.merge(allergies, on = \"SFM Id\")\n",
    "# Comment line before committing\n",
    "# patientAllergies.head()\n",
    "\n",
    "patientsTrimmed = patients.drop(['SFM Id', 'City', 'State', 'Country'], axis = 1)\n",
    "\n",
    "patientsTrimmed['Gender'] = pd.Categorical(patientsTrimmed['Gender'].str.strip())\n",
    "gender_onehot = pd.get_dummies(patientsTrimmed['Gender'], prefix = \"Gender\",\n",
    "                                    prefix_sep = \"-\", dtype = int)\n",
    "patientsTrimmed = patientsTrimmed.drop('Gender', axis = 1)\n",
    "patientsTrimmed = patientsTrimmed.join(gender_onehot)\n",
    "\n",
    "patientsTrimmed['SkinTone'] = pd.Categorical(patientsTrimmed['SkinTone'].str.strip())\n",
    "skintone_onehot = pd.get_dummies(patientsTrimmed['SkinTone'], prefix = \"SkinTone\",\n",
    "                                    prefix_sep = \"-\", dtype = int)\n",
    "patientsTrimmed = patientsTrimmed.drop('SkinTone', axis = 1)\n",
    "patientsTrimmed = patientsTrimmed.join(skintone_onehot)\n",
    "\n",
    "patientsTrimmed['FitzpatrickSkinPhotoType'] = pd.Categorical(patientsTrimmed['FitzpatrickSkinPhotoType'].str.strip())\n",
    "# Dropping first here since it is a blank variable in the column\n",
    "fitzpatrick_onehot = pd.get_dummies(patientsTrimmed['FitzpatrickSkinPhotoType'], prefix = \"Fitzpatrick\",\n",
    "                                    prefix_sep = \"-\", drop_first = True, dtype = int)\n",
    "patientsTrimmed = patientsTrimmed.drop('FitzpatrickSkinPhotoType', axis = 1)\n",
    "patientsTrimmed = patientsTrimmed.join(fitzpatrick_onehot)\n",
    "\n",
    "\n",
    "from keras.layers import TextVectorization\n",
    "from sklearn.preprocessing import MultiLabelBinarizer\n",
    "mlb_1 = MultiLabelBinarizer()\n",
    "\n",
    "mlb_1 = MultiLabelBinarizer()\n",
    "\n",
    "# Replace commas with whitespace\n",
    "patientsTrimmed['SkinConditions'] = patientsTrimmed['SkinConditions'].str.replace(',', ' ')\n",
    "# Set the max length based on whitespace characters\n",
    "max_len = patientsTrimmed['SkinConditions'].str.count(' ').max()\n",
    "\n",
    "patientsTrimmed['SkinConditions'] = patientsTrimmed['SkinConditions'].str.split()\n",
    "\n",
    "# Remove items containing the word \"Other\" from the list\n",
    "patientsTrimmed['SkinConditions'] = patientsTrimmed['SkinConditions'].apply(lambda x: [item for item in x if \"Other\" not in item])\n",
    "\n",
    "# One-hot encode data\n",
    "skinConditions = mlb_1.fit_transform(patientsTrimmed['SkinConditions'])\n",
    "\n",
    "\n",
    "# remove rare conditions \n",
    "skinConditions = np.delete(skinConditions,[8,9], axis=1)\n",
    "\n",
    "# Get the list of encoded classes\n",
    "encoded_classes = list(mlb_1.classes_)\n",
    "\n",
    "patientsTrimmed = patientsTrimmed.drop('SkinConditions', axis = 1)\n",
    "patientsArr = patientsTrimmed.values\n",
    "\n",
    "# input_data = skinConditions\n",
    "\n",
    "print(patientsArr)\n",
    "\n",
    "input_data = np.concatenate((patientsArr, skinConditions), axis = 1)\n",
    "\n",
    "# Drop ID column for preprocessing - ID should have no effect on prediction\n",
    "allergiesNoId = allergies.drop('SFM Id', axis = 1)\n",
    "# Remove all non-digit characters, then replace empty cells with NaN\n",
    "allergiesNoId = allergiesNoId.replace(r'\\D+', '', regex = True).replace('', np.nan)\n",
    "# Set all NaN cells to 0\n",
    "allergiesNoId = allergiesNoId.fillna(0)\n",
    "# Convert entire dataframe to integer\n",
    "allergiesNoId = allergiesNoId.astype(int)\n",
    "\n",
    "\n",
    "allergiesNoId['AllergiesList'] = allergiesNoId.astype(str).apply(' '.join, axis=1)\n",
    "allergiesNoId['AllergiesList'] = allergiesNoId['AllergiesList'].str.split()\n"
   ]
  },
  {
   "cell_type": "code",
   "execution_count": 3,
   "metadata": {},
   "outputs": [
    {
     "name": "stdout",
     "output_type": "stream",
     "text": [
      "['0', '100612', '100613', '100702', '100857', '102', '10260', '103637', '104', '1043', '104630', '105017', '10537', '10538', '10539', '10541', '10544', '10546', '10552', '105611', '106344', '106518', '107036', '1107', '111858', '112', '112022', '1126', '113', '1130', '1131', '114559', '1149', '1153', '11661', '11662', '11686', '117', '1177', '11790', '119', '11996', '121146', '121641', '121642', '121652', '122055', '12344', '123717', '124', '124537', '124737', '12522', '128', '128564', '128565', '129742', '129747', '13', '130118', '13018', '130735', '131994', '131995', '131996', '131997', '132762', '133', '133255', '133260', '133266', '133268', '133269', '133270', '133271', '133272', '133273', '133274', '133275', '133628', '133629', '133714', '134', '134256', '134795', '134800', '135153', '136', '136640', '136703', '136704', '13691', '13708', '137787', '137788', '137789', '137790', '137791', '137792', '137793', '137794', '137795', '1385', '1387', '13881', '138878', '13891', '139001', '139053', '139464', '1395', '139662', '14005', '140154', '1406', '140625', '140626', '144962', '145', '1453', '1456', '1458', '1462', '146546', '148043', '148092', '148307', '1487', '149', '1496', '149879', '149880', '151038', '151451', '151554', '151557', '151559', '151560', '152', '152543', '152913', '1530', '153025', '1532', '15438', '155222', '1558', '1582', '1586', '1587', '1588', '1589', '159', '1590', '1592', '1594', '1595', '1596', '1597', '1598', '1599', '1600', '1601', '1602', '1603', '1604', '1605', '1606', '1607', '1608', '1609', '1610', '1611', '1613', '1615', '1616', '1619', '1625', '1628', '1632', '1635', '16391', '1646', '164687', '1658', '166', '1665', '1668', '16760', '17049', '17187', '1735', '1802', '1803', '1804', '1805', '1825', '1826', '1827', '1828', '183', '1830', '184', '18419', '1842', '185', '186', '1866', '18699', '188', '1886', '1893', '190', '1903', '192', '19235', '19236', '193', '19352', '196', '1964', '1967', '1968', '1979', '1982', '1983', '1986', '1987', '1988', '1989', '1990', '1993', '1994', '1995', '1996', '1997', '1998', '1999', '2000', '2002', '2004', '2007', '2008', '2009', '201', '2012', '2013', '2015', '2016', '2018', '2020', '2023', '2028', '203', '2030', '2031', '2032', '2033', '20359', '2038', '2039', '204', '2040', '2041', '2042', '2044', '2046', '2047', '2048', '2049', '205', '2050', '2051', '2052', '2053', '2054', '2055', '2058', '2059', '20759', '20806', '209', '20937', '210', '2121', '213', '21339', '2134', '21340', '21341', '21342', '214', '2142', '215', '217', '21888', '219', '2195', '22030', '221', '222', '2234', '225', '226', '2269', '227', '2270', '2272', '2275', '22755', '2278', '2282', '2283', '22833', '2287', '2288', '229', '2290', '2292', '2293', '2294', '230', '2300', '2304', '2306', '2307', '2308', '231', '2311', '2312', '2313', '232', '23250', '233', '234', '23454', '2350', '2377', '2383', '23944', '240', '24022', '24023', '24025', '24028', '24033', '24035', '24037', '24039', '24041', '24042', '24044', '24045', '24048', '24049', '24050', '24055', '24056', '24057', '24058', '24059', '24061', '24064', '24065', '24067', '24071', '24073', '24074', '24075', '24080', '24081', '24083', '24084', '246', '247', '24816', '2502', '25159', '2528', '2536', '2565', '257', '26014', '26137', '263', '264', '26803', '2684', '2689', '270', '2737', '2761', '2770', '2787', '280', '2819', '282', '2821', '2853', '28559', '286', '28772', '2908', '29231', '2945', '2950', '29502', '299', '3020', '30442', '30482', '30670', '3092', '3125', '3126', '3127', '32120', '322', '3222', '3225', '32513', '32693', '3279', '32880', '33172', '33173', '33710', '3388', '340', '3405', '3450', '34813', '3497', '35361', '35423', '3551', '3552', '3565', '3601', '3610', '37026', '3766', '3768', '3784', '3793', '3799', '38080', '385', '3887', '39209', '3929', '3962', '39777', '41508', '41609', '41610', '41612', '41621', '41622', '41714', '41716', '41728', '41729', '418', '4185', '41987', '41989', '42', '42006', '4205', '42184', '42185', '422', '4249', '4271', '43193', '4364', '4367', '4414', '44462', '44465', '445', '4454', '451', '4550', '459', '46081', '4613', '4615', '4616', '4617', '4618', '4619', '4637', '4638', '4668', '469', '46995', '4701', '4702', '47438', '4824', '4851', '4878', '4882', '4891', '4909', '4928', '4929', '4936', '51508', '5198', '5225', '5236', '5248', '5271', '5272', '52757', '5322', '5345', '5374', '5405', '5430', '5431', '5437', '5443', '545', '5467', '5468', '54753', '54806', '54973', '5500', '55159', '5538', '5560', '5696', '5823', '5825', '5880', '5881', '5926', '5934', '598', '5986', '6', '6011', '6020', '607', '608', '60902', '6096', '613', '614', '6149', '615', '6150', '61707', '61708', '61913', '61986', '62', '6229', '634', '6390', '6416', '6462', '6471', '6509', '65964', '6638', '6657', '6659', '671', '6746', '676', '68', '680', '68258', '68271', '6841', '686', '69227', '6927', '700', '7044', '7047', '7076', '7086', '71', '715', '71869', '71870', '723', '7338', '73771', '7431', '7454', '7477', '7500', '7529', '754', '75701', '7578', '7581', '75912', '764', '76458', '7651', '7669', '7737', '7783', '7812', '7813', '79', '7946', '799', '8', '80', '800', '8033', '8139', '8140', '81708', '8172', '81750', '81751', '82031', '8236', '828', '8376', '8379', '8386', '839', '83935', '8427', '8469', '8512', '85249', '854', '8567', '859', '8723', '8768', '8899', '9116', '9127', '91958', '9207', '9216', '9274', '9275', '9276', '9277', '9289', '9296', '9297', '9298', '9300', '9301', '9305', '9308', '9310', '9312', '9314', '9315', '9318', '9321', '9322', '9324', '9325', '9327', '9329', '9335', '9337', '9338', '93387', '9339', '9341', '9342', '9344', '93450', '9346', '9348', '93499', '9351', '9355', '9357', '9358', '9361', '9364', '9365', '9371', '9372', '93733', '9375', '9376', '9384', '9388', '9389', '9391', '9392', '9393', '9400', '9404', '94128', '9418', '9421', '9424', '9438', '94473', '9452', '9456', '9458', '9465', '9466', '95426', '95438', '96100', '9646', '9667', '96771', '9685', '97', '97196', '97569', '9804', '98288', '99100', '9926', '99356']\n"
     ]
    }
   ],
   "source": [
    "# Create MultiLabelBinarizer object\n",
    "mlb = MultiLabelBinarizer()\n",
    "\n",
    "allergiesArray = np.array(allergiesNoId['AllergiesList'])\n",
    "# One-hot encode data\n",
    "allergiesArray = mlb.fit_transform(allergiesArray)\n",
    "\n",
    "print (list(mlb.classes_))\n",
    "\n",
    "transposed_array = list(map(list, zip(*allergiesArray)))\n",
    "\n",
    "# Count the number of 1s in each column\n",
    "column_counts = [column.count(1) for column in transposed_array]\n",
    "\n",
    "# Create a list of (column_index, count) tuples and rank them\n",
    "ranked_columns = sorted(enumerate(column_counts, 1), key=lambda x: x[1], reverse=True)\n",
    "\n",
    "# print the results\n",
    "# for rank, (column_index, count) in enumerate(ranked_columns, 1):\n",
    "#     print(f\"Rank {rank}: Column {column_index} - Number of 1s: {count}\")\n",
    "\n",
    "top_rank_n = 10\n",
    "\n",
    "top_column_list = [row[0] for row in ranked_columns]\n",
    "\n",
    "top_column_list = top_column_list[0:top_rank_n]\n",
    "\n",
    "top_rank_allergies = [[row[col -1] for col in top_column_list] for row in allergiesArray]\n",
    "\n",
    "top_rank_allergies\n",
    "\n",
    "\n",
    "allergiesArray = np.array(top_rank_allergies)\n",
    "\n",
    "# Debug only getting one Colum \n",
    "# allergiesArray = np.array([row[1] for row in allergiesArray])\n",
    "\n",
    "# Debug for removing first 1s col \n",
    "allergiesArray = allergiesArray[:, 1:]"
   ]
  },
  {
   "cell_type": "code",
   "execution_count": 13,
   "metadata": {},
   "outputs": [
    {
     "data": {
      "text/html": [
       "<style>#sk-container-id-3 {color: black;}#sk-container-id-3 pre{padding: 0;}#sk-container-id-3 div.sk-toggleable {background-color: white;}#sk-container-id-3 label.sk-toggleable__label {cursor: pointer;display: block;width: 100%;margin-bottom: 0;padding: 0.3em;box-sizing: border-box;text-align: center;}#sk-container-id-3 label.sk-toggleable__label-arrow:before {content: \"▸\";float: left;margin-right: 0.25em;color: #696969;}#sk-container-id-3 label.sk-toggleable__label-arrow:hover:before {color: black;}#sk-container-id-3 div.sk-estimator:hover label.sk-toggleable__label-arrow:before {color: black;}#sk-container-id-3 div.sk-toggleable__content {max-height: 0;max-width: 0;overflow: hidden;text-align: left;background-color: #f0f8ff;}#sk-container-id-3 div.sk-toggleable__content pre {margin: 0.2em;color: black;border-radius: 0.25em;background-color: #f0f8ff;}#sk-container-id-3 input.sk-toggleable__control:checked~div.sk-toggleable__content {max-height: 200px;max-width: 100%;overflow: auto;}#sk-container-id-3 input.sk-toggleable__control:checked~label.sk-toggleable__label-arrow:before {content: \"▾\";}#sk-container-id-3 div.sk-estimator input.sk-toggleable__control:checked~label.sk-toggleable__label {background-color: #d4ebff;}#sk-container-id-3 div.sk-label input.sk-toggleable__control:checked~label.sk-toggleable__label {background-color: #d4ebff;}#sk-container-id-3 input.sk-hidden--visually {border: 0;clip: rect(1px 1px 1px 1px);clip: rect(1px, 1px, 1px, 1px);height: 1px;margin: -1px;overflow: hidden;padding: 0;position: absolute;width: 1px;}#sk-container-id-3 div.sk-estimator {font-family: monospace;background-color: #f0f8ff;border: 1px dotted black;border-radius: 0.25em;box-sizing: border-box;margin-bottom: 0.5em;}#sk-container-id-3 div.sk-estimator:hover {background-color: #d4ebff;}#sk-container-id-3 div.sk-parallel-item::after {content: \"\";width: 100%;border-bottom: 1px solid gray;flex-grow: 1;}#sk-container-id-3 div.sk-label:hover label.sk-toggleable__label {background-color: #d4ebff;}#sk-container-id-3 div.sk-serial::before {content: \"\";position: absolute;border-left: 1px solid gray;box-sizing: border-box;top: 0;bottom: 0;left: 50%;z-index: 0;}#sk-container-id-3 div.sk-serial {display: flex;flex-direction: column;align-items: center;background-color: white;padding-right: 0.2em;padding-left: 0.2em;position: relative;}#sk-container-id-3 div.sk-item {position: relative;z-index: 1;}#sk-container-id-3 div.sk-parallel {display: flex;align-items: stretch;justify-content: center;background-color: white;position: relative;}#sk-container-id-3 div.sk-item::before, #sk-container-id-3 div.sk-parallel-item::before {content: \"\";position: absolute;border-left: 1px solid gray;box-sizing: border-box;top: 0;bottom: 0;left: 50%;z-index: -1;}#sk-container-id-3 div.sk-parallel-item {display: flex;flex-direction: column;z-index: 1;position: relative;background-color: white;}#sk-container-id-3 div.sk-parallel-item:first-child::after {align-self: flex-end;width: 50%;}#sk-container-id-3 div.sk-parallel-item:last-child::after {align-self: flex-start;width: 50%;}#sk-container-id-3 div.sk-parallel-item:only-child::after {width: 0;}#sk-container-id-3 div.sk-dashed-wrapped {border: 1px dashed gray;margin: 0 0.4em 0.5em 0.4em;box-sizing: border-box;padding-bottom: 0.4em;background-color: white;}#sk-container-id-3 div.sk-label label {font-family: monospace;font-weight: bold;display: inline-block;line-height: 1.2em;}#sk-container-id-3 div.sk-label-container {text-align: center;}#sk-container-id-3 div.sk-container {/* jupyter's `normalize.less` sets `[hidden] { display: none; }` but bootstrap.min.css set `[hidden] { display: none !important; }` so we also need the `!important` here to be able to override the default hidden behavior on the sphinx rendered scikit-learn.org. See: https://github.com/scikit-learn/scikit-learn/issues/21755 */display: inline-block !important;position: relative;}#sk-container-id-3 div.sk-text-repr-fallback {display: none;}</style><div id=\"sk-container-id-3\" class=\"sk-top-container\"><div class=\"sk-text-repr-fallback\"><pre>MultiOutputClassifier(estimator=RandomForestClassifier(n_estimators=1000,\n",
       "                                                       random_state=0))</pre><b>In a Jupyter environment, please rerun this cell to show the HTML representation or trust the notebook. <br />On GitHub, the HTML representation is unable to render, please try loading this page with nbviewer.org.</b></div><div class=\"sk-container\" hidden><div class=\"sk-item sk-dashed-wrapped\"><div class=\"sk-label-container\"><div class=\"sk-label sk-toggleable\"><input class=\"sk-toggleable__control sk-hidden--visually\" id=\"sk-estimator-id-7\" type=\"checkbox\" ><label for=\"sk-estimator-id-7\" class=\"sk-toggleable__label sk-toggleable__label-arrow\">MultiOutputClassifier</label><div class=\"sk-toggleable__content\"><pre>MultiOutputClassifier(estimator=RandomForestClassifier(n_estimators=1000,\n",
       "                                                       random_state=0))</pre></div></div></div><div class=\"sk-parallel\"><div class=\"sk-parallel-item\"><div class=\"sk-item\"><div class=\"sk-label-container\"><div class=\"sk-label sk-toggleable\"><input class=\"sk-toggleable__control sk-hidden--visually\" id=\"sk-estimator-id-8\" type=\"checkbox\" ><label for=\"sk-estimator-id-8\" class=\"sk-toggleable__label sk-toggleable__label-arrow\">estimator: RandomForestClassifier</label><div class=\"sk-toggleable__content\"><pre>RandomForestClassifier(n_estimators=1000, random_state=0)</pre></div></div></div><div class=\"sk-serial\"><div class=\"sk-item\"><div class=\"sk-estimator sk-toggleable\"><input class=\"sk-toggleable__control sk-hidden--visually\" id=\"sk-estimator-id-9\" type=\"checkbox\" ><label for=\"sk-estimator-id-9\" class=\"sk-toggleable__label sk-toggleable__label-arrow\">RandomForestClassifier</label><div class=\"sk-toggleable__content\"><pre>RandomForestClassifier(n_estimators=1000, random_state=0)</pre></div></div></div></div></div></div></div></div></div></div>"
      ],
      "text/plain": [
       "MultiOutputClassifier(estimator=RandomForestClassifier(n_estimators=1000,\n",
       "                                                       random_state=0))"
      ]
     },
     "execution_count": 13,
     "metadata": {},
     "output_type": "execute_result"
    }
   ],
   "source": [
    "from sklearn.model_selection import train_test_split\n",
    "from imblearn.ensemble import BalancedRandomForestClassifier\n",
    "from sklearn.multioutput import MultiOutputClassifier\n",
    "from sklearn.metrics import accuracy_score\n",
    "from sklearn.model_selection import train_test_split\n",
    "from sklearn.metrics import classification_report\n",
    "from sklearn.ensemble import RandomForestClassifier\n",
    "\n",
    "# Assuming input_data and allergiesArray are defined previously in your code\n",
    "X_train, X_test, y_train, y_test = train_test_split(input_data, allergiesArray, test_size=0.2, random_state=42, shuffle=True)\n",
    "\n",
    "# Use the Balanced Random Forest in the MultiOutputClassifier\n",
    "# -------------------- Baseline -------------------- \n",
    "brf_classifier = MultiOutputClassifier(RandomForestClassifier(random_state=0, n_estimators=1000))\n",
    "\n",
    "brf_classifier.fit(X_train, y_train)"
   ]
  },
  {
   "cell_type": "code",
   "execution_count": 5,
   "metadata": {},
   "outputs": [
    {
     "name": "stdout",
     "output_type": "stream",
     "text": [
      "Accuracy: 0.012121212121212121\n",
      "              precision    recall  f1-score   support\n",
      "\n",
      "           0       0.36      0.52      0.42       664\n",
      "           1       0.28      0.58      0.38       456\n",
      "           2       0.25      0.56      0.34       426\n",
      "           3       0.19      0.54      0.29       328\n",
      "           4       0.14      0.53      0.23       249\n",
      "           5       0.14      0.47      0.22       276\n",
      "           6       0.11      0.44      0.18       225\n",
      "           7       0.15      0.56      0.23       235\n",
      "           8       0.12      0.54      0.20       218\n",
      "\n",
      "   micro avg       0.20      0.53      0.29      3077\n",
      "   macro avg       0.19      0.53      0.28      3077\n",
      "weighted avg       0.23      0.53      0.31      3077\n",
      " samples avg       0.19      0.40      0.23      3077\n",
      "\n"
     ]
    },
    {
     "name": "stderr",
     "output_type": "stream",
     "text": [
      "/Users/xerxes/anaconda3/envs/tensorflow/lib/python3.11/site-packages/sklearn/metrics/_classification.py:1469: UndefinedMetricWarning: Precision and F-score are ill-defined and being set to 0.0 in samples with no predicted labels. Use `zero_division` parameter to control this behavior.\n",
      "  _warn_prf(average, modifier, msg_start, len(result))\n",
      "/Users/xerxes/anaconda3/envs/tensorflow/lib/python3.11/site-packages/sklearn/metrics/_classification.py:1469: UndefinedMetricWarning: Recall and F-score are ill-defined and being set to 0.0 in samples with no true labels. Use `zero_division` parameter to control this behavior.\n",
      "  _warn_prf(average, modifier, msg_start, len(result))\n"
     ]
    }
   ],
   "source": [
    "brf_predictions = brf_classifier.predict(X_test)\n",
    "\n",
    "svm_accuracy = accuracy_score(y_test, brf_predictions)\n",
    "print(f\"Accuracy: {svm_accuracy}\")\n",
    "\n",
    "print(classification_report(y_test, brf_predictions))"
   ]
  },
  {
   "cell_type": "code",
   "execution_count": 6,
   "metadata": {},
   "outputs": [],
   "source": [
    "# -------------------- Upweight the Minority Class -------------------- \n",
    "from sklearn.utils.class_weight import compute_sample_weight\n",
    "from sklearn.utils import class_weight\n",
    "\n",
    "counts = np.sum(y_train == 1, axis=0)\n",
    "\n",
    "target_value = np.sum(counts) / len(counts)\n",
    "\n",
    "# Calculate weights for each column\n",
    "weights = target_value / counts\n",
    "\n",
    "class_weights = {i: weights[i] for i in range(len(weights))}\n",
    "\n"
   ]
  },
  {
   "cell_type": "code",
   "execution_count": 14,
   "metadata": {},
   "outputs": [
    {
     "name": "stderr",
     "output_type": "stream",
     "text": [
      "/Users/xerxes/anaconda3/envs/tensorflow/lib/python3.11/site-packages/imblearn/ensemble/_forest.py:546: FutureWarning: The default of `sampling_strategy` will change from `'auto'` to `'all'` in version 0.13. This change will follow the implementation proposed in the original paper. Set to `'all'` to silence this warning and adopt the future behaviour.\n",
      "  warn(\n",
      "/Users/xerxes/anaconda3/envs/tensorflow/lib/python3.11/site-packages/imblearn/ensemble/_forest.py:558: FutureWarning: The default of `replacement` will change from `False` to `True` in version 0.13. This change will follow the implementation proposed in the original paper. Set to `True` to silence this warning and adopt the future behaviour.\n",
      "  warn(\n",
      "/Users/xerxes/anaconda3/envs/tensorflow/lib/python3.11/site-packages/imblearn/ensemble/_forest.py:546: FutureWarning: The default of `sampling_strategy` will change from `'auto'` to `'all'` in version 0.13. This change will follow the implementation proposed in the original paper. Set to `'all'` to silence this warning and adopt the future behaviour.\n",
      "  warn(\n",
      "/Users/xerxes/anaconda3/envs/tensorflow/lib/python3.11/site-packages/imblearn/ensemble/_forest.py:558: FutureWarning: The default of `replacement` will change from `False` to `True` in version 0.13. This change will follow the implementation proposed in the original paper. Set to `True` to silence this warning and adopt the future behaviour.\n",
      "  warn(\n",
      "/Users/xerxes/anaconda3/envs/tensorflow/lib/python3.11/site-packages/imblearn/ensemble/_forest.py:546: FutureWarning: The default of `sampling_strategy` will change from `'auto'` to `'all'` in version 0.13. This change will follow the implementation proposed in the original paper. Set to `'all'` to silence this warning and adopt the future behaviour.\n",
      "  warn(\n",
      "/Users/xerxes/anaconda3/envs/tensorflow/lib/python3.11/site-packages/imblearn/ensemble/_forest.py:558: FutureWarning: The default of `replacement` will change from `False` to `True` in version 0.13. This change will follow the implementation proposed in the original paper. Set to `True` to silence this warning and adopt the future behaviour.\n",
      "  warn(\n",
      "/Users/xerxes/anaconda3/envs/tensorflow/lib/python3.11/site-packages/imblearn/ensemble/_forest.py:546: FutureWarning: The default of `sampling_strategy` will change from `'auto'` to `'all'` in version 0.13. This change will follow the implementation proposed in the original paper. Set to `'all'` to silence this warning and adopt the future behaviour.\n",
      "  warn(\n",
      "/Users/xerxes/anaconda3/envs/tensorflow/lib/python3.11/site-packages/imblearn/ensemble/_forest.py:558: FutureWarning: The default of `replacement` will change from `False` to `True` in version 0.13. This change will follow the implementation proposed in the original paper. Set to `True` to silence this warning and adopt the future behaviour.\n",
      "  warn(\n",
      "/Users/xerxes/anaconda3/envs/tensorflow/lib/python3.11/site-packages/imblearn/ensemble/_forest.py:546: FutureWarning: The default of `sampling_strategy` will change from `'auto'` to `'all'` in version 0.13. This change will follow the implementation proposed in the original paper. Set to `'all'` to silence this warning and adopt the future behaviour.\n",
      "  warn(\n",
      "/Users/xerxes/anaconda3/envs/tensorflow/lib/python3.11/site-packages/imblearn/ensemble/_forest.py:558: FutureWarning: The default of `replacement` will change from `False` to `True` in version 0.13. This change will follow the implementation proposed in the original paper. Set to `True` to silence this warning and adopt the future behaviour.\n",
      "  warn(\n",
      "/Users/xerxes/anaconda3/envs/tensorflow/lib/python3.11/site-packages/imblearn/ensemble/_forest.py:546: FutureWarning: The default of `sampling_strategy` will change from `'auto'` to `'all'` in version 0.13. This change will follow the implementation proposed in the original paper. Set to `'all'` to silence this warning and adopt the future behaviour.\n",
      "  warn(\n",
      "/Users/xerxes/anaconda3/envs/tensorflow/lib/python3.11/site-packages/imblearn/ensemble/_forest.py:558: FutureWarning: The default of `replacement` will change from `False` to `True` in version 0.13. This change will follow the implementation proposed in the original paper. Set to `True` to silence this warning and adopt the future behaviour.\n",
      "  warn(\n",
      "/Users/xerxes/anaconda3/envs/tensorflow/lib/python3.11/site-packages/imblearn/ensemble/_forest.py:546: FutureWarning: The default of `sampling_strategy` will change from `'auto'` to `'all'` in version 0.13. This change will follow the implementation proposed in the original paper. Set to `'all'` to silence this warning and adopt the future behaviour.\n",
      "  warn(\n",
      "/Users/xerxes/anaconda3/envs/tensorflow/lib/python3.11/site-packages/imblearn/ensemble/_forest.py:558: FutureWarning: The default of `replacement` will change from `False` to `True` in version 0.13. This change will follow the implementation proposed in the original paper. Set to `True` to silence this warning and adopt the future behaviour.\n",
      "  warn(\n",
      "/Users/xerxes/anaconda3/envs/tensorflow/lib/python3.11/site-packages/imblearn/ensemble/_forest.py:546: FutureWarning: The default of `sampling_strategy` will change from `'auto'` to `'all'` in version 0.13. This change will follow the implementation proposed in the original paper. Set to `'all'` to silence this warning and adopt the future behaviour.\n",
      "  warn(\n",
      "/Users/xerxes/anaconda3/envs/tensorflow/lib/python3.11/site-packages/imblearn/ensemble/_forest.py:558: FutureWarning: The default of `replacement` will change from `False` to `True` in version 0.13. This change will follow the implementation proposed in the original paper. Set to `True` to silence this warning and adopt the future behaviour.\n",
      "  warn(\n",
      "/Users/xerxes/anaconda3/envs/tensorflow/lib/python3.11/site-packages/imblearn/ensemble/_forest.py:546: FutureWarning: The default of `sampling_strategy` will change from `'auto'` to `'all'` in version 0.13. This change will follow the implementation proposed in the original paper. Set to `'all'` to silence this warning and adopt the future behaviour.\n",
      "  warn(\n",
      "/Users/xerxes/anaconda3/envs/tensorflow/lib/python3.11/site-packages/imblearn/ensemble/_forest.py:558: FutureWarning: The default of `replacement` will change from `False` to `True` in version 0.13. This change will follow the implementation proposed in the original paper. Set to `True` to silence this warning and adopt the future behaviour.\n",
      "  warn(\n"
     ]
    },
    {
     "data": {
      "text/html": [
       "<style>#sk-container-id-4 {color: black;}#sk-container-id-4 pre{padding: 0;}#sk-container-id-4 div.sk-toggleable {background-color: white;}#sk-container-id-4 label.sk-toggleable__label {cursor: pointer;display: block;width: 100%;margin-bottom: 0;padding: 0.3em;box-sizing: border-box;text-align: center;}#sk-container-id-4 label.sk-toggleable__label-arrow:before {content: \"▸\";float: left;margin-right: 0.25em;color: #696969;}#sk-container-id-4 label.sk-toggleable__label-arrow:hover:before {color: black;}#sk-container-id-4 div.sk-estimator:hover label.sk-toggleable__label-arrow:before {color: black;}#sk-container-id-4 div.sk-toggleable__content {max-height: 0;max-width: 0;overflow: hidden;text-align: left;background-color: #f0f8ff;}#sk-container-id-4 div.sk-toggleable__content pre {margin: 0.2em;color: black;border-radius: 0.25em;background-color: #f0f8ff;}#sk-container-id-4 input.sk-toggleable__control:checked~div.sk-toggleable__content {max-height: 200px;max-width: 100%;overflow: auto;}#sk-container-id-4 input.sk-toggleable__control:checked~label.sk-toggleable__label-arrow:before {content: \"▾\";}#sk-container-id-4 div.sk-estimator input.sk-toggleable__control:checked~label.sk-toggleable__label {background-color: #d4ebff;}#sk-container-id-4 div.sk-label input.sk-toggleable__control:checked~label.sk-toggleable__label {background-color: #d4ebff;}#sk-container-id-4 input.sk-hidden--visually {border: 0;clip: rect(1px 1px 1px 1px);clip: rect(1px, 1px, 1px, 1px);height: 1px;margin: -1px;overflow: hidden;padding: 0;position: absolute;width: 1px;}#sk-container-id-4 div.sk-estimator {font-family: monospace;background-color: #f0f8ff;border: 1px dotted black;border-radius: 0.25em;box-sizing: border-box;margin-bottom: 0.5em;}#sk-container-id-4 div.sk-estimator:hover {background-color: #d4ebff;}#sk-container-id-4 div.sk-parallel-item::after {content: \"\";width: 100%;border-bottom: 1px solid gray;flex-grow: 1;}#sk-container-id-4 div.sk-label:hover label.sk-toggleable__label {background-color: #d4ebff;}#sk-container-id-4 div.sk-serial::before {content: \"\";position: absolute;border-left: 1px solid gray;box-sizing: border-box;top: 0;bottom: 0;left: 50%;z-index: 0;}#sk-container-id-4 div.sk-serial {display: flex;flex-direction: column;align-items: center;background-color: white;padding-right: 0.2em;padding-left: 0.2em;position: relative;}#sk-container-id-4 div.sk-item {position: relative;z-index: 1;}#sk-container-id-4 div.sk-parallel {display: flex;align-items: stretch;justify-content: center;background-color: white;position: relative;}#sk-container-id-4 div.sk-item::before, #sk-container-id-4 div.sk-parallel-item::before {content: \"\";position: absolute;border-left: 1px solid gray;box-sizing: border-box;top: 0;bottom: 0;left: 50%;z-index: -1;}#sk-container-id-4 div.sk-parallel-item {display: flex;flex-direction: column;z-index: 1;position: relative;background-color: white;}#sk-container-id-4 div.sk-parallel-item:first-child::after {align-self: flex-end;width: 50%;}#sk-container-id-4 div.sk-parallel-item:last-child::after {align-self: flex-start;width: 50%;}#sk-container-id-4 div.sk-parallel-item:only-child::after {width: 0;}#sk-container-id-4 div.sk-dashed-wrapped {border: 1px dashed gray;margin: 0 0.4em 0.5em 0.4em;box-sizing: border-box;padding-bottom: 0.4em;background-color: white;}#sk-container-id-4 div.sk-label label {font-family: monospace;font-weight: bold;display: inline-block;line-height: 1.2em;}#sk-container-id-4 div.sk-label-container {text-align: center;}#sk-container-id-4 div.sk-container {/* jupyter's `normalize.less` sets `[hidden] { display: none; }` but bootstrap.min.css set `[hidden] { display: none !important; }` so we also need the `!important` here to be able to override the default hidden behavior on the sphinx rendered scikit-learn.org. See: https://github.com/scikit-learn/scikit-learn/issues/21755 */display: inline-block !important;position: relative;}#sk-container-id-4 div.sk-text-repr-fallback {display: none;}</style><div id=\"sk-container-id-4\" class=\"sk-top-container\"><div class=\"sk-text-repr-fallback\"><pre>MultiOutputClassifier(estimator=BalancedRandomForestClassifier(class_weight={0: 0.526819180560941,\n",
       "                                                                             1: 0.7234646787362443,\n",
       "                                                                             2: 0.7715313268975961,\n",
       "                                                                             3: 1.10821098423056,\n",
       "                                                                             4: 1.2306763285024156,\n",
       "                                                                             5: 1.3139909735654418,\n",
       "                                                                             6: 1.4593626924453993,\n",
       "                                                                             7: 1.5545385202135775,\n",
       "                                                                             8: 1.6155370590566787},\n",
       "                                                               n_estimators=1000,\n",
       "                                                               random_state=0))</pre><b>In a Jupyter environment, please rerun this cell to show the HTML representation or trust the notebook. <br />On GitHub, the HTML representation is unable to render, please try loading this page with nbviewer.org.</b></div><div class=\"sk-container\" hidden><div class=\"sk-item sk-dashed-wrapped\"><div class=\"sk-label-container\"><div class=\"sk-label sk-toggleable\"><input class=\"sk-toggleable__control sk-hidden--visually\" id=\"sk-estimator-id-10\" type=\"checkbox\" ><label for=\"sk-estimator-id-10\" class=\"sk-toggleable__label sk-toggleable__label-arrow\">MultiOutputClassifier</label><div class=\"sk-toggleable__content\"><pre>MultiOutputClassifier(estimator=BalancedRandomForestClassifier(class_weight={0: 0.526819180560941,\n",
       "                                                                             1: 0.7234646787362443,\n",
       "                                                                             2: 0.7715313268975961,\n",
       "                                                                             3: 1.10821098423056,\n",
       "                                                                             4: 1.2306763285024156,\n",
       "                                                                             5: 1.3139909735654418,\n",
       "                                                                             6: 1.4593626924453993,\n",
       "                                                                             7: 1.5545385202135775,\n",
       "                                                                             8: 1.6155370590566787},\n",
       "                                                               n_estimators=1000,\n",
       "                                                               random_state=0))</pre></div></div></div><div class=\"sk-parallel\"><div class=\"sk-parallel-item\"><div class=\"sk-item\"><div class=\"sk-label-container\"><div class=\"sk-label sk-toggleable\"><input class=\"sk-toggleable__control sk-hidden--visually\" id=\"sk-estimator-id-11\" type=\"checkbox\" ><label for=\"sk-estimator-id-11\" class=\"sk-toggleable__label sk-toggleable__label-arrow\">estimator: BalancedRandomForestClassifier</label><div class=\"sk-toggleable__content\"><pre>BalancedRandomForestClassifier(class_weight={0: 0.526819180560941,\n",
       "                                             1: 0.7234646787362443,\n",
       "                                             2: 0.7715313268975961,\n",
       "                                             3: 1.10821098423056,\n",
       "                                             4: 1.2306763285024156,\n",
       "                                             5: 1.3139909735654418,\n",
       "                                             6: 1.4593626924453993,\n",
       "                                             7: 1.5545385202135775,\n",
       "                                             8: 1.6155370590566787},\n",
       "                               n_estimators=1000, random_state=0)</pre></div></div></div><div class=\"sk-serial\"><div class=\"sk-item\"><div class=\"sk-estimator sk-toggleable\"><input class=\"sk-toggleable__control sk-hidden--visually\" id=\"sk-estimator-id-12\" type=\"checkbox\" ><label for=\"sk-estimator-id-12\" class=\"sk-toggleable__label sk-toggleable__label-arrow\">BalancedRandomForestClassifier</label><div class=\"sk-toggleable__content\"><pre>BalancedRandomForestClassifier(class_weight={0: 0.526819180560941,\n",
       "                                             1: 0.7234646787362443,\n",
       "                                             2: 0.7715313268975961,\n",
       "                                             3: 1.10821098423056,\n",
       "                                             4: 1.2306763285024156,\n",
       "                                             5: 1.3139909735654418,\n",
       "                                             6: 1.4593626924453993,\n",
       "                                             7: 1.5545385202135775,\n",
       "                                             8: 1.6155370590566787},\n",
       "                               n_estimators=1000, random_state=0)</pre></div></div></div></div></div></div></div></div></div></div>"
      ],
      "text/plain": [
       "MultiOutputClassifier(estimator=BalancedRandomForestClassifier(class_weight={0: 0.526819180560941,\n",
       "                                                                             1: 0.7234646787362443,\n",
       "                                                                             2: 0.7715313268975961,\n",
       "                                                                             3: 1.10821098423056,\n",
       "                                                                             4: 1.2306763285024156,\n",
       "                                                                             5: 1.3139909735654418,\n",
       "                                                                             6: 1.4593626924453993,\n",
       "                                                                             7: 1.5545385202135775,\n",
       "                                                                             8: 1.6155370590566787},\n",
       "                                                               n_estimators=1000,\n",
       "                                                               random_state=0))"
      ]
     },
     "execution_count": 14,
     "metadata": {},
     "output_type": "execute_result"
    }
   ],
   "source": [
    "brf_classifier_oversample_weights = MultiOutputClassifier(BalancedRandomForestClassifier(random_state=0, n_estimators=1000, class_weight=class_weights))\n",
    "\n",
    "# Continue with training and evaluation as usual\n",
    "brf_classifier_oversample_weights.fit(X_train, y_train)"
   ]
  },
  {
   "cell_type": "code",
   "execution_count": 15,
   "metadata": {},
   "outputs": [
    {
     "name": "stdout",
     "output_type": "stream",
     "text": [
      "Accuracy: 0.013131313131313131\n",
      "              precision    recall  f1-score   support\n",
      "\n",
      "           0       0.36      0.52      0.42       664\n",
      "           1       0.28      0.57      0.37       456\n",
      "           2       0.25      0.55      0.34       426\n",
      "           3       0.20      0.54      0.29       328\n",
      "           4       0.14      0.53      0.22       249\n",
      "           5       0.14      0.47      0.22       276\n",
      "           6       0.11      0.43      0.17       225\n",
      "           7       0.15      0.55      0.23       235\n",
      "           8       0.12      0.52      0.20       218\n",
      "\n",
      "   micro avg       0.19      0.53      0.28      3077\n",
      "   macro avg       0.19      0.52      0.27      3077\n",
      "weighted avg       0.23      0.53      0.31      3077\n",
      " samples avg       0.19      0.40      0.23      3077\n",
      "\n"
     ]
    }
   ],
   "source": [
    "svm_predictions = brf_classifier_oversample_weights.predict(X_test)\n",
    "\n",
    "svm_accuracy = accuracy_score(y_test, svm_predictions)\n",
    "print(f\"Accuracy: {svm_accuracy}\")\n",
    "\n",
    "print(classification_report(y_test, svm_predictions,zero_division=0))"
   ]
  },
  {
   "cell_type": "code",
   "execution_count": 9,
   "metadata": {},
   "outputs": [
    {
     "name": "stderr",
     "output_type": "stream",
     "text": [
      "2024-04-27 14:55:34.800176: W tensorflow/tsl/platform/profile_utils/cpu_utils.cc:128] Failed to get CPU frequency: 0 Hz\n"
     ]
    },
    {
     "name": "stdout",
     "output_type": "stream",
     "text": [
      "Epoch 1/20\n",
      "198/198 [==============================] - 0s 1ms/step - loss: 15.3627 - accuracy: 0.1116 - val_loss: 0.6481 - val_accuracy: 0.1484\n",
      "Epoch 2/20\n",
      "198/198 [==============================] - 0s 936us/step - loss: 1.3269 - accuracy: 0.1831 - val_loss: 0.5506 - val_accuracy: 0.5619\n",
      "Epoch 3/20\n",
      "198/198 [==============================] - 0s 692us/step - loss: 0.7092 - accuracy: 0.3101 - val_loss: 0.5315 - val_accuracy: 0.5619\n",
      "Epoch 4/20\n",
      "198/198 [==============================] - 0s 677us/step - loss: 0.5776 - accuracy: 0.4848 - val_loss: 0.5386 - val_accuracy: 0.5619\n",
      "Epoch 5/20\n",
      "198/198 [==============================] - 0s 829us/step - loss: 0.5469 - accuracy: 0.5066 - val_loss: 0.5176 - val_accuracy: 0.5619\n",
      "Epoch 6/20\n",
      "198/198 [==============================] - 0s 683us/step - loss: 0.5038 - accuracy: 0.5205 - val_loss: 0.5006 - val_accuracy: 0.5619\n",
      "Epoch 7/20\n",
      "198/198 [==============================] - 0s 655us/step - loss: 0.4909 - accuracy: 0.5139 - val_loss: 0.4871 - val_accuracy: 0.5619\n",
      "Epoch 8/20\n",
      "198/198 [==============================] - 0s 672us/step - loss: 0.4840 - accuracy: 0.5238 - val_loss: 0.4685 - val_accuracy: 0.5619\n",
      "Epoch 9/20\n",
      "198/198 [==============================] - 0s 662us/step - loss: 0.4752 - accuracy: 0.5287 - val_loss: 0.4558 - val_accuracy: 0.5619\n",
      "Epoch 10/20\n",
      "198/198 [==============================] - 0s 670us/step - loss: 0.4609 - accuracy: 0.5362 - val_loss: 0.4507 - val_accuracy: 0.5619\n",
      "Epoch 11/20\n",
      "198/198 [==============================] - 0s 841us/step - loss: 0.4627 - accuracy: 0.5497 - val_loss: 0.4566 - val_accuracy: 0.5619\n",
      "Epoch 12/20\n",
      "198/198 [==============================] - 0s 709us/step - loss: 0.4594 - accuracy: 0.5673 - val_loss: 0.4518 - val_accuracy: 0.5619\n",
      "Epoch 13/20\n",
      "198/198 [==============================] - 0s 654us/step - loss: 0.4566 - accuracy: 0.5679 - val_loss: 0.4482 - val_accuracy: 0.5619\n",
      "Epoch 14/20\n",
      "198/198 [==============================] - 0s 661us/step - loss: 0.4521 - accuracy: 0.5687 - val_loss: 0.4454 - val_accuracy: 0.5619\n",
      "Epoch 15/20\n",
      "198/198 [==============================] - 0s 655us/step - loss: 0.4523 - accuracy: 0.5682 - val_loss: 0.4433 - val_accuracy: 0.5619\n",
      "Epoch 16/20\n",
      "198/198 [==============================] - 0s 655us/step - loss: 0.4504 - accuracy: 0.5684 - val_loss: 0.4416 - val_accuracy: 0.5619\n",
      "Epoch 17/20\n",
      "198/198 [==============================] - 0s 656us/step - loss: 0.4486 - accuracy: 0.5684 - val_loss: 0.4404 - val_accuracy: 0.5619\n",
      "Epoch 18/20\n",
      "198/198 [==============================] - 0s 655us/step - loss: 0.4491 - accuracy: 0.5680 - val_loss: 0.4395 - val_accuracy: 0.5619\n",
      "Epoch 19/20\n",
      "198/198 [==============================] - 0s 679us/step - loss: 0.4475 - accuracy: 0.5692 - val_loss: 0.4387 - val_accuracy: 0.5619\n",
      "Epoch 20/20\n",
      "198/198 [==============================] - 0s 682us/step - loss: 0.4458 - accuracy: 0.5687 - val_loss: 0.4381 - val_accuracy: 0.5619\n"
     ]
    },
    {
     "data": {
      "text/plain": [
       "<keras.callbacks.History at 0x47b7d0c90>"
      ]
     },
     "execution_count": 9,
     "metadata": {},
     "output_type": "execute_result"
    }
   ],
   "source": [
    "# Deep Learning model \n",
    "complex1NNmodel = tf.keras.Sequential([\n",
    "    tf.keras.layers.Dense(128, activation='relu', input_shape=(X_train.shape[1],)),\n",
    "    tf.keras.layers.Dropout(0.5),  # Dropout for regularization\n",
    "    tf.keras.layers.Dense(64, activation='relu'),\n",
    "    tf.keras.layers.Dropout(0.5),  # Dropout for regularization\n",
    "    tf.keras.layers.Dense(32, activation='relu'),\n",
    "    tf.keras.layers.Dropout(0.5),  # Dropout for regularization\n",
    "    tf.keras.layers.Dense(9, activation='sigmoid')  # Sigmoid activation for multi-label classification\n",
    "])\n",
    "\n",
    "complex1NNmodel.compile(optimizer='adam', loss='binary_crossentropy', metrics=['accuracy'],sample_weight_mode=class_weights)\n",
    "\n",
    "\n",
    "complex1NNmodel.fit(X_train, y_train, epochs=20, batch_size=32, validation_split=0.2)"
   ]
  },
  {
   "cell_type": "code",
   "execution_count": 10,
   "metadata": {},
   "outputs": [
    {
     "name": "stdout",
     "output_type": "stream",
     "text": [
      "62/62 [==============================] - 0s 259us/step\n",
      "              precision    recall  f1-score   support\n",
      "\n",
      "           0       0.34      1.00      0.50       664\n",
      "           1       0.23      1.00      0.37       456\n",
      "           2       0.22      1.00      0.35       426\n",
      "           3       0.00      0.00      0.00       328\n",
      "           4       0.00      0.00      0.00       249\n",
      "           5       0.00      0.00      0.00       276\n",
      "           6       0.00      0.00      0.00       225\n",
      "           7       0.00      0.00      0.00       235\n",
      "           8       0.00      0.00      0.00       218\n",
      "\n",
      "   micro avg       0.26      0.50      0.34      3077\n",
      "   macro avg       0.09      0.33      0.14      3077\n",
      "weighted avg       0.14      0.50      0.21      3077\n",
      " samples avg       0.26      0.40      0.29      3077\n",
      "\n"
     ]
    },
    {
     "name": "stderr",
     "output_type": "stream",
     "text": [
      "/Users/xerxes/anaconda3/envs/tensorflow/lib/python3.11/site-packages/sklearn/metrics/_classification.py:1469: UndefinedMetricWarning: Precision and F-score are ill-defined and being set to 0.0 in labels with no predicted samples. Use `zero_division` parameter to control this behavior.\n",
      "  _warn_prf(average, modifier, msg_start, len(result))\n",
      "/Users/xerxes/anaconda3/envs/tensorflow/lib/python3.11/site-packages/sklearn/metrics/_classification.py:1469: UndefinedMetricWarning: Recall and F-score are ill-defined and being set to 0.0 in samples with no true labels. Use `zero_division` parameter to control this behavior.\n",
      "  _warn_prf(average, modifier, msg_start, len(result))\n"
     ]
    }
   ],
   "source": [
    "y_pred = complex1NNmodel.predict(X_test)\n",
    "y_pred_binary = (y_pred > 0.2).astype(int)\n",
    "\n",
    "\n",
    "print(classification_report(y_test, y_pred_binary))"
   ]
  }
 ],
 "metadata": {
  "kernelspec": {
   "display_name": "tensorflow",
   "language": "python",
   "name": "python3"
  },
  "language_info": {
   "codemirror_mode": {
    "name": "ipython",
    "version": 3
   },
   "file_extension": ".py",
   "mimetype": "text/x-python",
   "name": "python",
   "nbconvert_exporter": "python",
   "pygments_lexer": "ipython3",
   "version": "3.11.5"
  }
 },
 "nbformat": 4,
 "nbformat_minor": 2
}
